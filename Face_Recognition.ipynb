{
  "nbformat": 4,
  "nbformat_minor": 0,
  "metadata": {
    "colab": {
      "name": "Face_Recognition.ipynb",
      "provenance": [],
      "collapsed_sections": []
    },
    "kernelspec": {
      "name": "python3",
      "display_name": "Python 3"
    },
    "language_info": {
      "name": "python"
    }
  },
  "cells": [
    {
      "cell_type": "code",
      "metadata": {
        "id": "Sor8yJV_2ydw"
      },
      "source": [
        "import torch\n",
        "from torch.autograd import Variable\n",
        "from torchvision import datasets, transforms\n",
        "import numpy as np\n",
        "import boto3\n",
        "import requests\n",
        "from io import BytesIO\n",
        "from datetime import datetime\n",
        "import json\n",
        "from pytz import timezone\n",
        "import matplotlib.pyplot as plt"
      ],
      "execution_count": null,
      "outputs": []
    },
    {
      "cell_type": "code",
      "metadata": {
        "id": "0C8VO7RR26Kh"
      },
      "source": [
        "s3 = boto3.resource('s3')\n",
        "bucket = \"attendance-model\""
      ],
      "execution_count": null,
      "outputs": []
    },
    {
      "cell_type": "code",
      "metadata": {
        "id": "elGk9Xye294u"
      },
      "source": [
        "def get_model(model_path):\n",
        "\n",
        "    if model_path[:5] == 's3://':\n",
        "        s3_bucket, s3_key = model_path.split('/')[2], model_path.split('/')[3:]\n",
        "        s3_key = '/'.join(s3_key)\n",
        "        with BytesIO() as f:\n",
        "            boto3.client(\"s3\").download_fileobj(Bucket=s3_bucket, Key=s3_key, Fileobj=f)\n",
        "            f.seek(0)\n",
        "            model_file = torch.load(f)\n",
        "    else:\n",
        "        with open(model_path, 'rb') as f:\n",
        "            model_file = torch.load(f)\n",
        "    return model_file"
      ],
      "execution_count": null,
      "outputs": []
    },
    {
      "cell_type": "code",
      "metadata": {
        "id": "-RUE6U3z3AfL"
      },
      "source": [
        "def imshow(input, title):\n",
        "    input = input.cpu().numpy().transpose((1, 2, 0))\n",
        "    input = std_arr * input + mean_arr\n",
        "    input = np.clip(input, 0, 1)\n",
        "\n",
        "    plt.figure(figsize=(12, 6))\n",
        "    plt.title(title)\n",
        "    plt.imshow(input)\n",
        "    plt.pause(2)"
      ],
      "execution_count": null,
      "outputs": []
    },
    {
      "cell_type": "code",
      "metadata": {
        "id": "8-4TzixO3DOb"
      },
      "source": [
        "with torch.no_grad():\n",
        "    model_path = get_model('s3://attendance-model/model_final')\n",
        "    total = 0\n",
        "    correct = 0\n",
        "    arr = [['1131901', 'Durvesh'], ['1149695', 'Frances'], ['1146105', 'Jay'], ['1138948', 'Kamal'], ['1138765', 'yash']]\n",
        "\n",
        "    mean_arr = [0.485, 0.456, 0.406]\n",
        "    std_arr = [0.229, 0.224, 0.225]\n",
        "\n",
        "    transform = transforms.Compose([\n",
        "        transforms.Resize(256),\n",
        "        transforms.CenterCrop(224),\n",
        "        transforms.ToTensor(),\n",
        "        transforms.Normalize(mean=mean_arr,\n",
        "                             std=std_arr)\n",
        "    ])\n",
        "\n",
        "    img = s3.Bucket(bucket).download_file('image.jpg', 'local_img.jpg')\n",
        "    value = transforms.ToTensor()\n",
        "    transformed_img = transform(img).float()\n",
        "    transformed_img = Variable(transformed_img, requires_grad=True)\n",
        "    transformed_img = transformed_img.unsqueeze(0)\n",
        "    transformed_img = transformed_img\n",
        "    result = model_path(transformed_img)\n",
        "    _, predicted_output = torch.max(result.data, 1)\n",
        "    predicted_index = predicted_output.cpu().numpy()[0]\n",
        "    imshow(value(img), arr[predicted_index])"
      ],
      "execution_count": null,
      "outputs": []
    },
    {
      "cell_type": "code",
      "metadata": {
        "id": "eVfRNpM83H3L"
      },
      "source": [
        "api_get = 'https://1o739743u5.execute-api.us-east-1.amazonaws.com/getV1/putdyanamodb?id=' + \\\n",
        "          arr[predicted_index][0]\n",
        "\n",
        "res = requests.get(api_get)\n",
        "json_data = res.json()\n",
        "\n",
        "api_post = \"https://1o739743u5.execute-api.us-east-1.amazonaws.com/v1/putdyanamodb\"\n",
        "\n",
        "array_Count = json_data[\"Count\"]\n",
        "\n",
        "fmt = '%Y-%m-%d %H:%M:%S'\n",
        "eastern = timezone('US/Eastern')\n",
        "loc_dt = datetime.now(eastern)\n",
        "\n",
        "current_date = loc_dt.strftime(fmt)\n",
        "\n",
        "att = [\n",
        "    str(current_date)\n",
        "]\n",
        "\n",
        "str1 = ','.join(str(e) for e in att)\n",
        "\n",
        "if array_Count == 1:\n",
        "    s = json_data[\"Items\"][0]\n",
        "    password = s[\"password\"][\"S\"]\n",
        "    last_name = s[\"last_name\"][\"S\"]\n",
        "    attendance = s[\"attendance\"][\"S\"]\n",
        "    first_name = s[\"first_name\"][\"S\"]\n",
        "    id = s[\"id\"][\"S\"]\n",
        "    email = s[\"email\"][\"S\"]\n",
        "\n",
        "    concat_attendance = attendance + ',' + str1\n",
        "\n",
        "    string = {\n",
        "        \"id\": id,\n",
        "        \"first_name\": first_name,\n",
        "        \"last_name\": last_name,\n",
        "        \"email\": email,\n",
        "        \"password\": password,\n",
        "        \"attendance\": concat_attendance\n",
        "    }\n",
        "\n",
        "    string = json.dumps(string)\n",
        "    res = requests.post(api_post, data=string)\n",
        "    print('Data Successfully Created ', res.text)"
      ],
      "execution_count": null,
      "outputs": []
    }
  ]
}